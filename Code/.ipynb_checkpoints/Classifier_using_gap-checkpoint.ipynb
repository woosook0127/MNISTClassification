{
 "cells": [
  {
   "cell_type": "markdown",
   "id": "aa4786e3",
   "metadata": {},
   "source": [
    "# Import modules"
   ]
  },
  {
   "cell_type": "code",
   "execution_count": 1,
   "id": "abf05933",
   "metadata": {},
   "outputs": [],
   "source": [
    "import torch\n",
    "import numpy as np\n",
    "import torch.nn as nn\n",
    "import torch.optim as optim\n",
    "from torchvision.datasets import ImageFolder\n",
    "import torchvision.datasets as dset\n",
    "import torchvision.transforms as transforms\n",
    "from torch.utils.data import DataLoader\n",
    "from torch.optim import lr_scheduler\n",
    "import os\n",
    "from PIL import Image\n",
    "import matplotlib.pyplot as plt\n",
    "import cv2\n",
    "import random"
   ]
  },
  {
   "cell_type": "markdown",
   "id": "8b3cfe5e",
   "metadata": {},
   "source": [
    "# Set Hyperparameter"
   ]
  },
  {
   "cell_type": "code",
   "execution_count": 2,
   "id": "4833c2e8",
   "metadata": {},
   "outputs": [
    {
     "name": "stdout",
     "output_type": "stream",
     "text": [
      "using cuda\n"
     ]
    }
   ],
   "source": [
    "device = torch.device(\"cuda\" if torch.cuda.is_available() else \"cpu\")\n",
    "\n",
    "torch.manual_seed(777)\n",
    "if device == \"cuda\":\n",
    "    torch.cuda.manual_seed_all(777)\n",
    "print(f\"using {device}\")\n",
    "\n",
    "batch_size = 100\n",
    "learning_rate = 1e-3\n",
    "num_epoch = 2000"
   ]
  },
  {
   "cell_type": "markdown",
   "id": "39f1684c",
   "metadata": {},
   "source": [
    "# Load Data"
   ]
  },
  {
   "cell_type": "code",
   "execution_count": 3,
   "id": "00f6984b",
   "metadata": {},
   "outputs": [],
   "source": [
    "def get_alphabet(root: str, batch_size: int):\n",
    "    \n",
    "    train_path = os.path.join(root, 'train')\n",
    "    test_path = os.path.join(root, 'test')\n",
    "    \n",
    "    train1_rotation = ImageFolder(root = train_path,\n",
    "                                 transform=transforms.Compose([\n",
    "                                     transforms.ToTensor(),\n",
    "#                                      transforms.Normalize(mean=(0.1307,), std=(0.3081,)),\n",
    "                                     transforms.Grayscale(1),\n",
    "                                     transforms.RandomRotation(5)\n",
    "                                 ]),\n",
    "                                 target_transform=None)\n",
    "    \n",
    "    train2_default = ImageFolder(root = train_path,\n",
    "                                 transform=transforms.Compose([\n",
    "                                     transforms.ToTensor(),\n",
    "#                                     transforms.Normalize(mean=(0.1307,), std=(0.3081,)),\n",
    "                                     transforms.Grayscale(1)\n",
    "                                     #, transforms.CenterCrop(26), transfroms.Resize(28)\n",
    "                                 ]),\n",
    "                                 target_transform=None)\n",
    "    \n",
    "    train3_crop = ImageFolder(root = train_path,\n",
    "                                 transform=transforms.Compose([\n",
    "                                     transforms.ToTensor(),\n",
    "#                                     transforms.Normalize(mean=(0.1307,), std=(0.3081,)),\n",
    "                                     transforms.Grayscale(1),\n",
    "                                     transforms.CenterCrop(26),\n",
    "                                     transforms.Resize(28)\n",
    "                                 ]),\n",
    "                                 target_transform=None)\n",
    "    \n",
    "    train4_inv = ImageFolder(root = train_path,\n",
    "                                 transform=transforms.Compose([\n",
    "                                     transforms.ToTensor(),\n",
    "#                                     transforms.Normalize(mean=(0.1307,), std=(0.3081,)),\n",
    "                                     transforms.Grayscale(1),\n",
    "                                     transforms.RandomInvert()\n",
    "                                 ]),\n",
    "                                 target_transform=None)\n",
    "    \n",
    "    \n",
    "    alphabet_test = ImageFolder(root = test_path,\n",
    "                                 transform=transforms.Compose([\n",
    "                                     transforms.ToTensor(),\n",
    "                                     transforms.Grayscale(1)\n",
    "                                 ]),\n",
    "                                 target_transform=None)\n",
    "    \n",
    "    train_loader = DataLoader(train1_rotation,\n",
    "                              batch_size=batch_size,\n",
    "                              shuffle=True,\n",
    "                              drop_last=True,\n",
    "                              num_workers=8)\n",
    "\n",
    "    test_loader = DataLoader(alphabet_test,\n",
    "                             batch_size=batch_size,\n",
    "                             shuffle=False,\n",
    "                             drop_last=False,\n",
    "                             num_workers=8) \n",
    "    \n",
    "    return (train1_rotation, train_loader, test_loader)"
   ]
  },
  {
   "cell_type": "code",
   "execution_count": 4,
   "id": "ffba44c0",
   "metadata": {},
   "outputs": [],
   "source": [
    "data_path = '/home/r320ws/Desktop/wooseok/MNISTClassification/Dataset/processed_data/'\n",
    "original_data, train_loader, test_loader = get_alphabet(data_path, batch_size)"
   ]
  },
  {
   "cell_type": "code",
   "execution_count": 5,
   "id": "22ddde12",
   "metadata": {},
   "outputs": [
    {
     "data": {
      "image/png": "[encoded data removed]",
      "text/plain": [
       "<Figure size 432x288 with 1 Axes>"
      ]
     },
     "metadata": {
      "needs_background": "light"
     },
     "output_type": "display_data"
    },
    {
     "data": {
      "image/png": "[encoded data removed]",
      "text/plain": [
       "<Figure size 432x288 with 1 Axes>"
      ]
     },
     "metadata": {
      "needs_background": "light"
     },
     "output_type": "display_data"
    },
    {
     "data": {
      "image/png": "[encoded data removed]",
      "text/plain": [
       "<Figure size 432x288 with 1 Axes>"
      ]
     },
     "metadata": {
      "needs_background": "light"
     },
     "output_type": "display_data"
    },
    {
     "data": {
      "image/png": "[encoded data removed]",
      "text/plain": [
       "<Figure size 432x288 with 1 Axes>"
      ]
     },
     "metadata": {
      "needs_background": "light"
     },
     "output_type": "display_data"
    },
    {
     "data": {
      "image/png": "[encoded data removed]",
      "text/plain": [
       "<Figure size 432x288 with 1 Axes>"
      ]
     },
     "metadata": {
      "needs_background": "light"
     },
     "output_type": "display_data"
    },
    {
     "data": {
      "image/png": "[encoded data removed]",
      "text/plain": [
       "<Figure size 432x288 with 1 Axes>"
      ]
     },
     "metadata": {
      "needs_background": "light"
     },
     "output_type": "display_data"
    },
    {
     "data": {
      "image/png": "[encoded data removed]",
      "text/plain": [
       "<Figure size 432x288 with 1 Axes>"
      ]
     },
     "metadata": {
      "needs_background": "light"
     },
     "output_type": "display_data"
    },
    {
     "data": {
      "image/png": "[encoded data removed]",
      "text/plain": [
       "<Figure size 432x288 with 1 Axes>"
      ]
     },
     "metadata": {
      "needs_background": "light"
     },
     "output_type": "display_data"
    },
    {
     "data": {
      "image/png": "[encoded data removed]",
      "text/plain": [
       "<Figure size 432x288 with 1 Axes>"
      ]
     },
     "metadata": {
      "needs_background": "light"
     },
     "output_type": "display_data"
    },
    {
     "data": {
      "image/png": "[encoded data removed]",
      "text/plain": [
       "<Figure size 432x288 with 1 Axes>"
      ]
     },
     "metadata": {
      "needs_background": "light"
     },
     "output_type": "display_data"
    }
   ],
   "source": [
    "%matplotlib inline\n",
    "\n",
    "def tensorToNumpy(tensor):\n",
    "    c, w, h = tensor.shape\n",
    "    \n",
    "    img = np.zeros_like(tensor)\n",
    "    img = img[0,:,:]\n",
    "    img[:,:] = tensor[0,:,:]\n",
    "    \n",
    "    plt.figure()\n",
    "    plt.imshow(img)\n",
    "\n",
    "for i in random.choices(range(len(original_data)), k=10):\n",
    "    image, target = original_data.__getitem__(i)\n",
    "    tensorToNumpy(image)\n"
   ]
  },
  {
   "cell_type": "markdown",
   "id": "6ff4c4ff",
   "metadata": {},
   "source": [
    "# CNN Class"
   ]
  },
  {
   "cell_type": "code",
   "execution_count": 6,
   "id": "3f3aa351",
   "metadata": {},
   "outputs": [
    {
     "data": {
      "text/plain": [
       "'   0.991\\nclass CNN(nn.Module):\\n    def __init__(self):\\n        a=32\\n        b=64\\n        c=512\\n        \\n        super(CNN, self).__init__()\\n        self.layer1 = nn.Sequential(         # 28x28\\n            nn.Conv2d(1, a, 3, padding=1),\\n            nn.BatchNorm2d(a),\\n            nn.ReLU(inplace=True),\\n        )\\n        self.layer2 = nn.Sequential(          # 28x28      \\n            nn.Conv2d(a, a, 3, padding=1),\\n            nn.BatchNorm2d(a),\\n            nn.ReLU(inplace=True),\\n            nn.MaxPool2d(2,2)\\n        )\\n        self.layer3 = nn.Sequential(         #14x14\\n            nn.Conv2d(a, b, 3, padding=1),\\n            nn.BatchNorm2d(b),\\n            nn.ReLU(inplace=True),  \\n            \\n            nn.Conv2d(b, b, kernel_size=3, padding=1),    #7x7\\n            nn.BatchNorm2d(64),\\n            nn.ReLU(inplace=True),\\n            nn.MaxPool2d(kernel_size=2, stride=2)\\n        )\\n        self.fc_layer = nn.Sequential(\\n            nn.Linear(in_features=64*7*7, out_features=512),\\n            nn.BatchNorm1d(512),\\n            nn.ReLU(),\\n            nn.Dropout(0.5),\\n            \\n            nn.Linear(512, 26)\\n        )\\n        \\n    def forward(self, x):\\n        out = self.layer1(x)\\n        out = self.layer2(out)\\n        out = self.layer3(out)\\n        out = out.view(out.size(0), -1)\\n        out = self.fc_layer(out)\\n        return out'"
      ]
     },
     "execution_count": 6,
     "metadata": {},
     "output_type": "execute_result"
    }
   ],
   "source": [
    "#### \n",
    "'''class CNN(nn.Module):  # train with rotated and adamw\n",
    "    def __init__(self):\n",
    "        a=32\n",
    "        b=128\n",
    "        c=512\n",
    "        d=1024\n",
    "        \n",
    "        super(CNN, self).__init__()\n",
    "        self.layer1 = nn.Sequential(         # 28x28\n",
    "            nn.Conv2d(1, a, 3, padding=1),\n",
    "            nn.BatchNorm2d(a),\n",
    "            nn.ReLU(inplace=True),\n",
    "        )\n",
    "        self.layer2 = nn.Sequential(          # 28x28      \n",
    "            nn.Conv2d(a, b, 3, padding=1),\n",
    "            nn.BatchNorm2d(b),\n",
    "            nn.ReLU(inplace=True),\n",
    "            nn.MaxPool2d(2,2)\n",
    "        )\n",
    "        self.layer3 = nn.Sequential(         #14x14\n",
    "            nn.Conv2d(b, c, 3, padding=1),\n",
    "            nn.BatchNorm2d(c),\n",
    "            nn.ReLU(inplace=True),  \n",
    "            nn.MaxPool2d(kernel_size=2, stride=2),\n",
    "                         \n",
    "            nn.Conv2d(c, d, 3, padding=1),\n",
    "            nn.BatchNorm2d(d),\n",
    "            nn.ReLU(inplace=True),  \n",
    "            nn.MaxPool2d(kernel_size=2, stride=2, padding=1)            \n",
    "        )\n",
    "        \n",
    "        self.fc_layer = nn.Sequential(\n",
    "            nn.Linear(in_features=d*4*4, out_features=1024),\n",
    "            nn.BatchNorm1d(1024),\n",
    "            nn.ReLU(),\n",
    "            nn.Dropout(0.5),\n",
    "            \n",
    "            nn.Linear(1024, 26)\n",
    "        )\n",
    "        \n",
    "    def forward(self, x):\n",
    "        out = self.layer1(x)\n",
    "        out = self.layer2(out)\n",
    "        out = self.layer3(out)\n",
    "        out = out.view(out.size(0), -1)\n",
    "        out = self.fc_layer(out)\n",
    "        return out'''\n",
    "\n",
    "'''\n",
    "## rotate, dropout04, optim_adam, kernel 5, out_feature = 512 ---> 99.56\n",
    "## rotate, dropout04, optim_adam, kernel 3, out_feature = 512 ---> 99.48\n",
    "class CNN(nn.Module):\n",
    "    def __init__(self):\n",
    "        a=32\n",
    "        b=128\n",
    "        c=512\n",
    "        \n",
    "        super(CNN, self).__init__()\n",
    "        self.layer1 = nn.Sequential(         # 28x28\n",
    "            nn.Conv2d(1, 128, 5, padding=2),\n",
    "            nn.BatchNorm2d(128),\n",
    "            nn.MaxPool2d(2,2),\n",
    "            nn.ReLU(inplace=True)\n",
    "        )\n",
    "        self.layer2 = nn.Sequential(          # 28x28      \n",
    "\n",
    "            nn.Conv2d(128, 256, 3, padding=1),\n",
    "            nn.BatchNorm2d(256),\n",
    "            nn.MaxPool2d(2,2),\n",
    "            nn.ReLU(inplace=True),\n",
    "            nn.Dropout(0.4)\n",
    "        )\n",
    "        self.layer3 = nn.Sequential(         #14x14\n",
    "\n",
    "            nn.Conv2d(256, 512, 3, padding=1),\n",
    "            nn.BatchNorm2d(c),\n",
    "            nn.MaxPool2d(2, 2, padding=1),\n",
    "            nn.ReLU(inplace=True),\n",
    "            nn.Dropout(0.4)\n",
    "        )\n",
    "        \n",
    "        self.fc_layer = nn.Sequential(\n",
    "            nn.Linear(in_features=512*4*4, out_features=512),\n",
    "            nn.BatchNorm1d(512),\n",
    "            nn.ReLU(),\n",
    "            nn.Dropout(0.4),\n",
    "            \n",
    "            nn.Linear(512, 26)\n",
    "        )\n",
    "        \n",
    "#         self.residual_layer = nn.Sequential(\n",
    "#             nn.Conv2d(1, 128, 1)\n",
    "#         )\n",
    "        \n",
    "    def forward(self, x):\n",
    "        out = self.layer1(x) \n",
    "        out = self.layer2(out)\n",
    "        out = self.layer3(out)\n",
    "        out = out.view(out.size(0), -1)\n",
    "        out = self.fc_layer(out)\n",
    "        return out'''\n",
    "    \n",
    "    \n",
    "## rotate, dropout04, optim_adam, kernel all 5, out_feature = 512 ---> 99.56\n",
    "## rotate, dropout04, optim_adam, kernel 3, out_feature = 512 ---> 99.48\n",
    "class CNN(nn.Module):\n",
    "    def __init__(self):\n",
    "        a=32\n",
    "        b=128\n",
    "        c=512\n",
    "        \n",
    "        super(CNN, self).__init__()\n",
    "        self.layer1 = nn.Sequential(         # 28x28\n",
    "            nn.Conv2d(1, 128, 5, padding=2),\n",
    "            nn.BatchNorm2d(128),\n",
    "            nn.MaxPool2d(2,2),\n",
    "            nn.ReLU(inplace=True)\n",
    "        )\n",
    "        self.layer2 = nn.Sequential(          # 28x28      \n",
    "\n",
    "            nn.Conv2d(128, 256, 5, padding=2),\n",
    "            nn.BatchNorm2d(256),\n",
    "            nn.MaxPool2d(2,2),\n",
    "            nn.ReLU(inplace=True),\n",
    "            nn.Dropout(0.4)\n",
    "        )\n",
    "        self.layer3 = nn.Sequential(         #14x14\n",
    "\n",
    "            nn.Conv2d(256, 512, 5, padding=2),\n",
    "            nn.BatchNorm2d(c),\n",
    "            nn.MaxPool2d(2, 2, padding=1),\n",
    "            nn.ReLU(inplace=True),\n",
    "            nn.Dropout(0.4)\n",
    "        )\n",
    "        self.layer4 = nn.Sequential(\n",
    "            nn.Conv2d(512, 26, kernel_size=5, padding=2),\n",
    "            nn.BatchNorm2d(26),\n",
    "            nn.AdaptiveAvgPool2d(1),\n",
    "            nn.ReLU(),\n",
    "            nn.Dropout(0.4)\n",
    "        )\n",
    "        \n",
    "\n",
    "        \n",
    "    def forward(self, x):\n",
    "        out = self.layer1(x) \n",
    "        out = self.layer2(out)\n",
    "        out = self.layer3(out)\n",
    "        out = self.layer4(out)\n",
    "        out = out.view(out.size(0), -1)\n",
    "        return out\n",
    "\n",
    "#         self.residual_layer = nn.Sequential(\n",
    "#             nn.Conv2d(1, 128, 1)\n",
    "#         )\n",
    "        \n",
    "#     def forward(self, x):\n",
    "#         out = self.layer1(x) \n",
    "#         out = self.layer2(out)\n",
    "#         out = self.layer3(out)\n",
    "#         out = out.view(out.size(0), -1)\n",
    "#         out = self.fc_layer(out)\n",
    "#         return out\n",
    "\n",
    "    \n",
    "    \n",
    "    \n",
    "    \n",
    "## \n",
    "\n",
    "\n",
    "\n",
    "'''class CNN(nn.Module):\n",
    "    def __init__(self):\n",
    "        a=32\n",
    "        b=128\n",
    "        c=512\n",
    "        \n",
    "        super(CNN, self).__init__()\n",
    "        self.layer1 = nn.Sequential(         # 28x28\n",
    "            nn.Conv2d(1, 128, 5, padding=2),\n",
    "            nn.BatchNorm2d(128),\n",
    "            nn.MaxPool2d(2,2),\n",
    "            nn.ReLU(inplace=True)\n",
    "        )\n",
    "        self.layer2 = nn.Sequential(          # 28x28      \n",
    "\n",
    "            nn.Conv2d(128, 256, 3, padding=1),\n",
    "            nn.BatchNorm2d(256),\n",
    "            nn.MaxPool2d(2,2),\n",
    "            nn.ReLU(inplace=True),\n",
    "            nn.Dropout(0.4)\n",
    "        )\n",
    "        self.layer3 = nn.Sequential(         #14x14\n",
    "\n",
    "            nn.Conv2d(256, 512, 3, padding=1),\n",
    "            nn.BatchNorm2d(512),\n",
    "            nn.MaxPool2d(2, 2, padding=1),\n",
    "            nn.ReLU(inplace=True),\n",
    "            nn.Dropout(0.4)\n",
    "        )\n",
    "        self.fc_layer = nn.Sequential(\n",
    "            nn.Linear(in_features=512*4*4, out_features=512),\n",
    "            nn.BatchNorm1d(512),\n",
    "            nn.ReLU(),\n",
    "            nn.Dropout(0.4),\n",
    "            \n",
    "            nn.Linear(512, 26)\n",
    "        )\n",
    "        self.layer4 = nn.Sequential(\n",
    "            nn.Conv2d(512, 26, kernel_size=5, padding=2),\n",
    "            nn.BatchNorm2d(26),\n",
    "            nn.ReLU(),\n",
    "            nn.AdaptiveAvgPool2d(1),\n",
    "            nn.Dropout(0.4)\n",
    "        )\n",
    "        \n",
    "        \n",
    "#         self.residual_layer = nn.Sequential(\n",
    "#             nn.Conv2d(1, 128, 1)\n",
    "#         )\n",
    "        \n",
    "    def forward(self, x):\n",
    "        out = self.layer1(x) \n",
    "        out = self.layer2(out)\n",
    "        out = self.layer3(out)\n",
    "        out = self.layer4(out)\n",
    "        out = out.view(out.size(0), -1)\n",
    "        return out\n",
    "'''\n",
    "    \n",
    "'''   0.991\n",
    "class CNN(nn.Module):\n",
    "    def __init__(self):\n",
    "        a=32\n",
    "        b=64\n",
    "        c=512\n",
    "        \n",
    "        super(CNN, self).__init__()\n",
    "        self.layer1 = nn.Sequential(         # 28x28\n",
    "            nn.Conv2d(1, a, 3, padding=1),\n",
    "            nn.BatchNorm2d(a),\n",
    "            nn.ReLU(inplace=True),\n",
    "        )\n",
    "        self.layer2 = nn.Sequential(          # 28x28      \n",
    "            nn.Conv2d(a, a, 3, padding=1),\n",
    "            nn.BatchNorm2d(a),\n",
    "            nn.ReLU(inplace=True),\n",
    "            nn.MaxPool2d(2,2)\n",
    "        )\n",
    "        self.layer3 = nn.Sequential(         #14x14\n",
    "            nn.Conv2d(a, b, 3, padding=1),\n",
    "            nn.BatchNorm2d(b),\n",
    "            nn.ReLU(inplace=True),  \n",
    "            \n",
    "            nn.Conv2d(b, b, kernel_size=3, padding=1),    #7x7\n",
    "            nn.BatchNorm2d(64),\n",
    "            nn.ReLU(inplace=True),\n",
    "            nn.MaxPool2d(kernel_size=2, stride=2)\n",
    "        )\n",
    "        self.fc_layer = nn.Sequential(\n",
    "            nn.Linear(in_features=64*7*7, out_features=512),\n",
    "            nn.BatchNorm1d(512),\n",
    "            nn.ReLU(),\n",
    "            nn.Dropout(0.5),\n",
    "            \n",
    "            nn.Linear(512, 26)\n",
    "        )\n",
    "        \n",
    "    def forward(self, x):\n",
    "        out = self.layer1(x)\n",
    "        out = self.layer2(out)\n",
    "        out = self.layer3(out)\n",
    "        out = out.view(out.size(0), -1)\n",
    "        out = self.fc_layer(out)\n",
    "        return out'''"
   ]
  },
  {
   "cell_type": "markdown",
   "id": "20c96b2c",
   "metadata": {},
   "source": [
    "# Define model"
   ]
  },
  {
   "cell_type": "code",
   "execution_count": 7,
   "id": "376da65b",
   "metadata": {},
   "outputs": [],
   "source": [
    "model = CNN().to(device)\n",
    "\n",
    "# train1_2_ pretrained\n",
    "# model = torch.load(\"./weights/rotate_drpout04_adamoptim_kernel5_126ep_acc99.5619888305664.pth\").to(device)\n",
    "\n",
    "\n",
    "loss_func = nn.CrossEntropyLoss().to(device)\n",
    "optimizer = optim.Adam(model.parameters(), lr=learning_rate)\n",
    "scheduler = lr_scheduler.ReduceLROnPlateau(optimizer, mode='max', factor=0.5, patience=10)\n",
    "# optimizer = optim.AdamW(model.parameters(), lr=learning_rate, weight_decay=1e-1)\n",
    "# scheduler = lr_scheduler.CosineAnnealingLR(optimizer, T_max=10, eta_min=1e-5)\n"
   ]
  },
  {
   "cell_type": "markdown",
   "id": "2c82f8e2",
   "metadata": {},
   "source": [
    "# Training"
   ]
  },
  {
   "cell_type": "code",
   "execution_count": 8,
   "id": "a529af34",
   "metadata": {},
   "outputs": [],
   "source": [
    "def test_acc(model, test_loader=test_loader):\n",
    "    correct = 0\n",
    "    total = 0\n",
    "    model = model.eval()\n",
    "    with torch.no_grad():\n",
    "        for image, label in test_loader:\n",
    "            x = image.to(device)\n",
    "            y = label.to(device)\n",
    "\n",
    "            output = model.forward(x)\n",
    "            _, output_index = torch.max(output, 1)\n",
    "\n",
    "            total += label.size(0)\n",
    "            correct += (output_index == y ).sum().float()\n",
    "\n",
    "        return f\"{100.0*correct/total}\""
   ]
  },
  {
   "cell_type": "code",
   "execution_count": null,
   "id": "ba2f9a29",
   "metadata": {
    "scrolled": false
   },
   "outputs": [
    {
     "name": "stderr",
     "output_type": "stream",
     "text": [
      "100%|██████████| 316/316 [00:07<00:00, 41.40it/s]\n"
     ]
    },
    {
     "name": "stdout",
     "output_type": "stream",
     "text": [
      "Epoch: 1, Loss: 1.741103172302246,            LR: 0.001, Acc: 65.39278411865234,           Best: 0.0\n"
     ]
    },
    {
     "name": "stderr",
     "output_type": "stream",
     "text": [
      "100%|██████████| 316/316 [00:07<00:00, 41.93it/s]\n"
     ]
    },
    {
     "name": "stdout",
     "output_type": "stream",
     "text": [
      "Epoch: 2, Loss: 1.492997407913208,            LR: 0.001, Acc: 87.66647338867188,           Best: 0.0\n"
     ]
    },
    {
     "name": "stderr",
     "output_type": "stream",
     "text": [
      "100%|██████████| 316/316 [00:07<00:00, 41.73it/s]\n"
     ]
    },
    {
     "name": "stdout",
     "output_type": "stream",
     "text": [
      "Epoch: 3, Loss: 1.6219017505645752,            LR: 0.001, Acc: 92.45319366455078,           Best: 0.0\n"
     ]
    },
    {
     "name": "stderr",
     "output_type": "stream",
     "text": [
      "100%|██████████| 316/316 [00:07<00:00, 41.40it/s]\n"
     ]
    },
    {
     "name": "stdout",
     "output_type": "stream",
     "text": [
      "Epoch: 4, Loss: 1.6354484558105469,            LR: 0.001, Acc: 97.16271209716797,           Best: 0.0\n"
     ]
    },
    {
     "name": "stderr",
     "output_type": "stream",
     "text": [
      "100%|██████████| 316/316 [00:07<00:00, 40.66it/s]\n"
     ]
    },
    {
     "name": "stdout",
     "output_type": "stream",
     "text": [
      "Epoch: 5, Loss: 1.4031798839569092,            LR: 0.001, Acc: 95.50279998779297,           Best: 0.0\n"
     ]
    },
    {
     "name": "stderr",
     "output_type": "stream",
     "text": [
      "100%|██████████| 316/316 [00:07<00:00, 40.36it/s]\n"
     ]
    },
    {
     "name": "stdout",
     "output_type": "stream",
     "text": [
      "Epoch: 6, Loss: 1.60063898563385,            LR: 0.001, Acc: 96.56436920166016,           Best: 0.0\n"
     ]
    },
    {
     "name": "stderr",
     "output_type": "stream",
     "text": [
      "100%|██████████| 316/316 [00:07<00:00, 40.22it/s]\n"
     ]
    },
    {
     "name": "stdout",
     "output_type": "stream",
     "text": [
      "Epoch: 7, Loss: 1.2620428800582886,            LR: 0.001, Acc: 96.39066314697266,           Best: 0.0\n"
     ]
    },
    {
     "name": "stderr",
     "output_type": "stream",
     "text": [
      "100%|██████████| 316/316 [00:07<00:00, 40.77it/s]\n"
     ]
    },
    {
     "name": "stdout",
     "output_type": "stream",
     "text": [
      "Epoch: 8, Loss: 1.6261684894561768,            LR: 0.001, Acc: 98.2049789428711,           Best: 0.0\n"
     ]
    },
    {
     "name": "stderr",
     "output_type": "stream",
     "text": [
      " 53%|█████▎    | 167/316 [00:04<00:03, 40.34it/s]"
     ]
    }
   ],
   "source": [
    "max_accuracy =0.\n",
    "from tqdm import tqdm\n",
    "\n",
    "for i in range(1, num_epoch+1):\n",
    "    model = model.train()\n",
    "    for _, [image, label] in tqdm(enumerate(train_loader), total= len(train_loader)):\n",
    "        x = image.to(device)\n",
    "        y = label.to(device)\n",
    "        \n",
    "        optimizer.zero_grad()\n",
    "        output = model.forward(x)\n",
    "        loss = loss_func(output, y)\n",
    "        loss.backward()\n",
    "        optimizer.step()\n",
    "    \n",
    "    accuracy = float(test_acc(model))\n",
    "    if (accuracy> max_accuracy and accuracy>99.5):\n",
    "        max_accuracy = accuracy\n",
    "        model_path = f\"../weights/processed_Rotate_GAP_adam_reduceLR_all5kernel{i:03d}ep_acc{max_accuracy}.pth\"\n",
    "        torch.save(model, model_path)\n",
    "    \n",
    "    scheduler.step(accuracy)\n",
    "    print(f\"Epoch: {i}, Loss: {loss.item()},  \\\n",
    "          LR: {scheduler.optimizer.state_dict()['param_groups'][0]['lr']}, Acc: {accuracy}, \\\n",
    "          Best: {max_accuracy}\")"
   ]
  },
  {
   "cell_type": "code",
   "execution_count": null,
   "id": "f27036a3",
   "metadata": {},
   "outputs": [],
   "source": [
    "print(test_acc(model))"
   ]
  },
  {
   "cell_type": "code",
   "execution_count": null,
   "id": "aa2d4f53",
   "metadata": {},
   "outputs": [],
   "source": []
  },
  {
   "cell_type": "code",
   "execution_count": null,
   "id": "c7ee0019",
   "metadata": {},
   "outputs": [],
   "source": []
  }
 ],
 "metadata": {
  "kernelspec": {
   "display_name": "vonenet",
   "language": "python",
   "name": "vonenet"
  },
  "language_info": {
   "codemirror_mode": {
    "name": "ipython",
    "version": 3
   },
   "file_extension": ".py",
   "mimetype": "text/x-python",
   "name": "python",
   "nbconvert_exporter": "python",
   "pygments_lexer": "ipython3",
   "version": "3.8.8"
  }
 },
 "nbformat": 4,
 "nbformat_minor": 5
}
