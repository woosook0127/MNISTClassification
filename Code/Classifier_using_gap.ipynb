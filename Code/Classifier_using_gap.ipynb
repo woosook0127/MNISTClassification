{
 "cells": [
  {
   "cell_type": "markdown",
   "id": "aa4786e3",
   "metadata": {},
   "source": [
    "# Import modules"
   ]
  },
  {
   "cell_type": "code",
   "execution_count": 1,
   "id": "abf05933",
   "metadata": {},
   "outputs": [],
   "source": [
    "import torch\n",
    "import numpy as np\n",
    "import torch.nn as nn\n",
    "import torch.optim as optim\n",
    "from torchvision.datasets import ImageFolder\n",
    "import torchvision.datasets as dset\n",
    "import torchvision.transforms as transforms\n",
    "from torch.utils.data import DataLoader\n",
    "from torch.optim import lr_scheduler\n",
    "import os\n",
    "from PIL import ImageOps\n",
    "import PIL\n",
    "import matplotlib.pyplot as plt\n",
    "import cv2\n",
    "import random"
   ]
  },
  {
   "cell_type": "markdown",
   "id": "8b3cfe5e",
   "metadata": {},
   "source": [
    "# Set Hyperparameter"
   ]
  },
  {
   "cell_type": "code",
   "execution_count": 2,
   "id": "4833c2e8",
   "metadata": {},
   "outputs": [
    {
     "name": "stdout",
     "output_type": "stream",
     "text": [
      "using cuda\n"
     ]
    }
   ],
   "source": [
    "device = torch.device(\"cuda\" if torch.cuda.is_available() else \"cpu\")\n",
    "\n",
    "torch.manual_seed(777)\n",
    "if device == \"cuda\":\n",
    "    torch.cuda.manual_seed_all(777)\n",
    "print(f\"using {device}\")\n",
    "\n",
    "batch_size = 100\n",
    "learning_rate = 1e-3\n",
    "num_epoch = 2000"
   ]
  },
  {
   "cell_type": "markdown",
   "id": "39f1684c",
   "metadata": {},
   "source": [
    "# Load Data"
   ]
  },
  {
   "cell_type": "code",
   "execution_count": 3,
   "id": "00f6984b",
   "metadata": {},
   "outputs": [],
   "source": [
    "def get_alphabet(root: str, batch_size: int):\n",
    "    \n",
    "    train_path = os.path.join(root, 'train')\n",
    "    test_path = os.path.join(root, 'test')\n",
    "    \n",
    "    train1_rotation = ImageFolder(root = train_path,\n",
    "                                 transform=transforms.Compose([\n",
    "                                     transforms.ToTensor(),\n",
    "#                                      transforms.Normalize(mean=(0.1307,), std=(0.3081,)),\n",
    "                                     transforms.Grayscale(1),\n",
    "                                     transforms.RandomRotation(5)\n",
    "                                 ]),\n",
    "                                 target_transform=None)\n",
    "    \n",
    "    train2_default = ImageFolder(root = train_path,\n",
    "                                 transform=transforms.Compose([\n",
    "                                     transforms.ToTensor(),\n",
    "#                                     transforms.Normalize(mean=(0.1307,), std=(0.3081,)),\n",
    "                                     transforms.Grayscale(1)\n",
    "                                     #, transforms.CenterCrop(26), transfroms.Resize(28)\n",
    "                                 ]),\n",
    "                                 target_transform=None)\n",
    "    \n",
    "    train3_crop = ImageFolder(root = train_path,\n",
    "                                 transform=transforms.Compose([\n",
    "                                     transforms.ToTensor(),\n",
    "#                                     transforms.Normalize(mean=(0.1307,), std=(0.3081,)),\n",
    "                                     transforms.Grayscale(1),\n",
    "                                     transforms.CenterCrop(26),\n",
    "                                     transforms.Resize(28)\n",
    "                                 ]),\n",
    "                                 target_transform=None)\n",
    "    \n",
    "    train4_inv = ImageFolder(root = train_path,\n",
    "                                 transform=transforms.Compose([\n",
    "                                     transforms.ToTensor(),\n",
    "#                                     transforms.Normalize(mean=(0.1307,), std=(0.3081,)),\n",
    "                                     transforms.Grayscale(1),\n",
    "                                     transforms.RandomInvert()\n",
    "                                 ]),\n",
    "                                 target_transform=None)\n",
    "    \n",
    "    train_kaggle = ImageFolder(root = \"/home/r320ws/Desktop/wooseok/MNISTClassification/Dataset/alpha_small/train\",\n",
    "                                 transform=transforms.Compose([\n",
    "                                     transforms.ToTensor(),\n",
    "                                     transforms.Resize(28),\n",
    "                                     transforms.Grayscale(1),\n",
    "                                     transforms.RandomInvert(1)\n",
    "                                 ]),\n",
    "                                 target_transform=None)\n",
    "    \n",
    "    test_kaggle = ImageFolder(root = \"/home/r320ws/Desktop/wooseok/MNISTClassification/Dataset/alpha_small/test\",\n",
    "                                 transform=transforms.Compose([\n",
    "                                     transforms.ToTensor(),\n",
    "                                     transforms.Resize(28),\n",
    "                                     transforms.Grayscale(1),\n",
    "                                     transforms.RandomInvert(1)\n",
    "#                                      transforms.RandomInvert(1)\n",
    "                                 ]),\n",
    "                                 target_transform=None)\n",
    "    \n",
    "    train_merged = ImageFolder(root = \"/home/r320ws/Desktop/wooseok/MNISTClassification/Dataset/alpha_small/train\",\n",
    "                                 transform=transforms.Compose([\n",
    "                                     transforms.ToTensor(),\n",
    "                                     transforms.Resize(28),\n",
    "                                     transforms.Grayscale(1),\n",
    "                                     transforms.RandomInvert(0.5),\n",
    "                                     transforms.RandomRotation(5)\n",
    "                                 ]),\n",
    "                                 target_transform=None)\n",
    "    \n",
    "    test_merged = ImageFolder(root = \"/home/r320ws/Desktop/wooseok/MNISTClassification/Dataset/alpha_small/test\",\n",
    "                                 transform=transforms.Compose([\n",
    "                                     transforms.ToTensor(),\n",
    "                                     transforms.Resize(28),\n",
    "                                     transforms.Grayscale(1),\n",
    "                                     transforms.RandomInvert(0.5)\n",
    "#                                      transforms.RandomInvert(1)\n",
    "                                 ]),\n",
    "                                 target_transform=None)    \n",
    "    \n",
    "    \n",
    "    \n",
    "    alphabet_test = ImageFolder(root = test_path,\n",
    "                                 transform=transforms.Compose([\n",
    "                                     transforms.ToTensor(),\n",
    "                                     transforms.Grayscale(1)\n",
    "                                 ]),\n",
    "                                 target_transform=None)\n",
    "    \n",
    "    ###############################################################################\n",
    "    \n",
    "    train_loader = DataLoader(train_merged,\n",
    "                              batch_size=batch_size,\n",
    "                              shuffle=True,\n",
    "                              drop_last=True,\n",
    "                              num_workers=8)\n",
    "\n",
    "    test_loader = DataLoader(test_merged,\n",
    "                             batch_size=batch_size,\n",
    "                             shuffle=False,\n",
    "                             drop_last=False,\n",
    "                             num_workers=8) \n",
    "\n",
    "    \n",
    "    return (train_merged, train_loader, test_loader)"
   ]
  },
  {
   "cell_type": "code",
   "execution_count": 4,
   "id": "ffba44c0",
   "metadata": {},
   "outputs": [],
   "source": [
    "data_path = '/home/r320ws/Desktop/wooseok/MNISTClassification/Dataset/processed_data/'\n",
    "original_data, train_loader, test_loader = get_alphabet(data_path, batch_size)"
   ]
  },
  {
   "cell_type": "code",
   "execution_count": 5,
   "id": "22ddde12",
   "metadata": {},
   "outputs": [
    {
     "data": {
      "image/png": "[encoded data removed]",
      "text/plain": [
       "<Figure size 432x288 with 1 Axes>"
      ]
     },
     "metadata": {
      "needs_background": "light"
     },
     "output_type": "display_data"
    },
    {
     "data": {
      "image/png": "[encoded data removed]",
      "text/plain": [
       "<Figure size 432x288 with 1 Axes>"
      ]
     },
     "metadata": {
      "needs_background": "light"
     },
     "output_type": "display_data"
    },
    {
     "data": {
      "image/png": "[encoded data removed]",
      "text/plain": [
       "<Figure size 432x288 with 1 Axes>"
      ]
     },
     "metadata": {
      "needs_background": "light"
     },
     "output_type": "display_data"
    },
    {
     "data": {
      "image/png": "[encoded data removed]",
      "text/plain": [
       "<Figure size 432x288 with 1 Axes>"
      ]
     },
     "metadata": {
      "needs_background": "light"
     },
     "output_type": "display_data"
    },
    {
     "data": {
      "image/png": "[encoded data removed]",
      "text/plain": [
       "<Figure size 432x288 with 1 Axes>"
      ]
     },
     "metadata": {
      "needs_background": "light"
     },
     "output_type": "display_data"
    },
    {
     "data": {
      "image/png": "[encoded data removed]",
      "text/plain": [
       "<Figure size 432x288 with 1 Axes>"
      ]
     },
     "metadata": {
      "needs_background": "light"
     },
     "output_type": "display_data"
    },
    {
     "data": {
      "image/png": "[encoded data removed]",
      "text/plain": [
       "<Figure size 432x288 with 1 Axes>"
      ]
     },
     "metadata": {
      "needs_background": "light"
     },
     "output_type": "display_data"
    },
    {
     "data": {
      "image/png": "[encoded data removed]",
      "text/plain": [
       "<Figure size 432x288 with 1 Axes>"
      ]
     },
     "metadata": {
      "needs_background": "light"
     },
     "output_type": "display_data"
    },
    {
     "data": {
      "image/png": "[encoded data removed]",
      "text/plain": [
       "<Figure size 432x288 with 1 Axes>"
      ]
     },
     "metadata": {
      "needs_background": "light"
     },
     "output_type": "display_data"
    },
    {
     "data": {
      "image/png": "[encoded data removed]",
      "text/plain": [
       "<Figure size 432x288 with 1 Axes>"
      ]
     },
     "metadata": {
      "needs_background": "light"
     },
     "output_type": "display_data"
    }
   ],
   "source": [
    "%matplotlib inline\n",
    "\n",
    "def tensorToNumpy(tensor):\n",
    "    c, w, h = tensor.shape\n",
    "    \n",
    "    img = np.zeros_like(tensor)\n",
    "    img = img[0,:,:]\n",
    "    img[:,:] = tensor[0,:,:]\n",
    "    \n",
    "    plt.figure()\n",
    "    \n",
    "    plt.imshow(img)\n",
    "\n",
    "for i in random.choices(range(len(original_data)), k=10):\n",
    "    image, target = original_data.__getitem__(i)\n",
    "    tensorToNumpy(image)\n"
   ]
  },
  {
   "cell_type": "markdown",
   "id": "6ff4c4ff",
   "metadata": {},
   "source": [
    "# CNN Class"
   ]
  },
  {
   "cell_type": "code",
   "execution_count": 6,
   "id": "3f3aa351",
   "metadata": {},
   "outputs": [
    {
     "data": {
      "text/plain": [
       "'   0.991\\nclass CNN(nn.Module):\\n    def __init__(self):\\n        a=32\\n        b=64\\n        c=512\\n        \\n        super(CNN, self).__init__()\\n        self.layer1 = nn.Sequential(         # 28x28\\n            nn.Conv2d(1, a, 3, padding=1),\\n            nn.BatchNorm2d(a),\\n            nn.ReLU(inplace=True),\\n        )\\n        self.layer2 = nn.Sequential(          # 28x28      \\n            nn.Conv2d(a, a, 3, padding=1),\\n            nn.BatchNorm2d(a),\\n            nn.ReLU(inplace=True),\\n            nn.MaxPool2d(2,2)\\n        )\\n        self.layer3 = nn.Sequential(         #14x14\\n            nn.Conv2d(a, b, 3, padding=1),\\n            nn.BatchNorm2d(b),\\n            nn.ReLU(inplace=True),  \\n            \\n            nn.Conv2d(b, b, kernel_size=3, padding=1),    #7x7\\n            nn.BatchNorm2d(64),\\n            nn.ReLU(inplace=True),\\n            nn.MaxPool2d(kernel_size=2, stride=2)\\n        )\\n        self.fc_layer = nn.Sequential(\\n            nn.Linear(in_features=64*7*7, out_features=512),\\n            nn.BatchNorm1d(512),\\n            nn.ReLU(),\\n            nn.Dropout(0.5),\\n            \\n            nn.Linear(512, 26)\\n        )\\n        \\n    def forward(self, x):\\n        out = self.layer1(x)\\n        out = self.layer2(out)\\n        out = self.layer3(out)\\n        out = out.view(out.size(0), -1)\\n        out = self.fc_layer(out)\\n        return out'"
      ]
     },
     "execution_count": 6,
     "metadata": {},
     "output_type": "execute_result"
    }
   ],
   "source": [
    "#### \n",
    "'''class CNN(nn.Module):  # train with rotated and adamw\n",
    "    def __init__(self):\n",
    "        a=32\n",
    "        b=128\n",
    "        c=512\n",
    "        d=1024\n",
    "        \n",
    "        super(CNN, self).__init__()\n",
    "        self.layer1 = nn.Sequential(         # 28x28\n",
    "            nn.Conv2d(1, a, 3, padding=1),\n",
    "            nn.BatchNorm2d(a),\n",
    "            nn.ReLU(inplace=True),\n",
    "        )\n",
    "        self.layer2 = nn.Sequential(          # 28x28      \n",
    "            nn.Conv2d(a, b, 3, padding=1),\n",
    "            nn.BatchNorm2d(b),\n",
    "            nn.ReLU(inplace=True),\n",
    "            nn.MaxPool2d(2,2)\n",
    "        )\n",
    "        self.layer3 = nn.Sequential(         #14x14\n",
    "            nn.Conv2d(b, c, 3, padding=1),\n",
    "            nn.BatchNorm2d(c),\n",
    "            nn.ReLU(inplace=True),  \n",
    "            nn.MaxPool2d(kernel_size=2, stride=2),\n",
    "                         \n",
    "            nn.Conv2d(c, d, 3, padding=1),\n",
    "            nn.BatchNorm2d(d),\n",
    "            nn.ReLU(inplace=True),  \n",
    "            nn.MaxPool2d(kernel_size=2, stride=2, padding=1)            \n",
    "        )\n",
    "        \n",
    "        self.fc_layer = nn.Sequential(\n",
    "            nn.Linear(in_features=d*4*4, out_features=1024),\n",
    "            nn.BatchNorm1d(1024),\n",
    "            nn.ReLU(),\n",
    "            nn.Dropout(0.5),\n",
    "            \n",
    "            nn.Linear(1024, 26)\n",
    "        )\n",
    "        \n",
    "    def forward(self, x):\n",
    "        out = self.layer1(x)\n",
    "        out = self.layer2(out)\n",
    "        out = self.layer3(out)\n",
    "        out = out.view(out.size(0), -1)\n",
    "        out = self.fc_layer(out)\n",
    "        return out'''\n",
    "\n",
    "'''\n",
    "## rotate, dropout04, optim_adam, kernel 5, out_feature = 512 ---> 99.56\n",
    "## rotate, dropout04, optim_adam, kernel 3, out_feature = 512 ---> 99.48\n",
    "class CNN(nn.Module):\n",
    "    def __init__(self):\n",
    "        a=32\n",
    "        b=128\n",
    "        c=512\n",
    "        \n",
    "        super(CNN, self).__init__()\n",
    "        self.layer1 = nn.Sequential(         # 28x28\n",
    "            nn.Conv2d(1, 128, 5, padding=2),\n",
    "            nn.BatchNorm2d(128),\n",
    "            nn.MaxPool2d(2,2),\n",
    "            nn.ReLU(inplace=True)\n",
    "        )\n",
    "        self.layer2 = nn.Sequential(          # 28x28      \n",
    "\n",
    "            nn.Conv2d(128, 256, 3, padding=1),\n",
    "            nn.BatchNorm2d(256),\n",
    "            nn.MaxPool2d(2,2),\n",
    "            nn.ReLU(inplace=True),\n",
    "            nn.Dropout(0.4)\n",
    "        )\n",
    "        self.layer3 = nn.Sequential(         #14x14\n",
    "\n",
    "            nn.Conv2d(256, 512, 3, padding=1),\n",
    "            nn.BatchNorm2d(c),\n",
    "            nn.MaxPool2d(2, 2, padding=1),\n",
    "            nn.ReLU(inplace=True),\n",
    "            nn.Dropout(0.4)\n",
    "        )\n",
    "        \n",
    "        self.fc_layer = nn.Sequential(\n",
    "            nn.Linear(in_features=512*4*4, out_features=512),\n",
    "            nn.BatchNorm1d(512),\n",
    "            nn.ReLU(),\n",
    "            nn.Dropout(0.4),\n",
    "            \n",
    "            nn.Linear(512, 26)\n",
    "        )\n",
    "        \n",
    "#         self.residual_layer = nn.Sequential(\n",
    "#             nn.Conv2d(1, 128, 1)\n",
    "#         )\n",
    "        \n",
    "    def forward(self, x):\n",
    "        out = self.layer1(x) \n",
    "        out = self.layer2(out)\n",
    "        out = self.layer3(out)\n",
    "        out = out.view(out.size(0), -1)\n",
    "        out = self.fc_layer(out)\n",
    "        return out'''\n",
    "    \n",
    "    \n",
    "## rotate, dropout04, optim_adam, kernel all 5, out_feature = 512 ---> 99.56\n",
    "## rotate, dropout04, optim_adam, kernel 3, out_feature = 512 ---> 99.48\n",
    "class CNN(nn.Module):\n",
    "    def __init__(self):\n",
    "        a=32\n",
    "        b=128\n",
    "        c=512\n",
    "        \n",
    "        super(CNN, self).__init__()\n",
    "        self.layer1 = nn.Sequential(         # 28x28\n",
    "            nn.Conv2d(1, 128, 5, padding=2),\n",
    "            nn.BatchNorm2d(128),\n",
    "            nn.MaxPool2d(2,2),\n",
    "            nn.ReLU(inplace=True)\n",
    "        )\n",
    "        self.layer2 = nn.Sequential(          # 14x14      \n",
    "\n",
    "            nn.Conv2d(128, 256, 3, padding=2),\n",
    "            nn.BatchNorm2d(256),\n",
    "            nn.MaxPool2d(2,2),\n",
    "            nn.ReLU(inplace=True),\n",
    "            nn.Dropout(0.4)\n",
    "        )\n",
    "        self.layer3 = nn.Sequential(         #7x7\n",
    "            nn.Conv2d(256, 512, 3, padding=2),\n",
    "            nn.BatchNorm2d(c),\n",
    "            nn.MaxPool2d(2, 2, padding=1),\n",
    "            nn.ReLU(inplace=True),\n",
    "            nn.Dropout(0.4)\n",
    "        )\n",
    "        self.layer4 = nn.Sequential(        # 4x4\n",
    "            nn.Conv2d(512, 26, kernel_size=3, padding=2),\n",
    "            nn.BatchNorm2d(26),\n",
    "            nn.AdaptiveAvgPool2d(1),\n",
    "            nn.ReLU(),\n",
    "            nn.Dropout(0.4)\n",
    "        )\n",
    "        \n",
    "    def forward(self, x):\n",
    "        out = self.layer1(x) \n",
    "        out = self.layer2(out)\n",
    "        out = self.layer3(out)\n",
    "        out = self.layer4(out)\n",
    "        out = out.view(out.size(0), -1)\n",
    "        return out\n",
    "\n",
    "#         self.residual_layer = nn.Sequential(\n",
    "#             nn.Conv2d(1, 128, 1)\n",
    "#         )\n",
    "        \n",
    "#     def forward(self, x):\n",
    "#         out = self.layer1(x) \n",
    "#         out = self.layer2(out)\n",
    "#         out = self.layer3(out)\n",
    "#         out = out.view(out.size(0), -1)\n",
    "#         out = self.fc_layer(out)\n",
    "#         return out\n",
    "\n",
    "    \n",
    "    \n",
    "    \n",
    "    \n",
    "## \n",
    "\n",
    "\n",
    "\n",
    "'''class CNN(nn.Module):\n",
    "    def __init__(self):\n",
    "        a=32\n",
    "        b=128\n",
    "        c=512\n",
    "        \n",
    "        super(CNN, self).__init__()\n",
    "        self.layer1 = nn.Sequential(         # 28x28\n",
    "            nn.Conv2d(1, 128, 5, padding=2),\n",
    "            nn.BatchNorm2d(128),\n",
    "            nn.MaxPool2d(2,2),\n",
    "            nn.ReLU(inplace=True)\n",
    "        )\n",
    "        self.layer2 = nn.Sequential(          # 28x28      \n",
    "\n",
    "            nn.Conv2d(128, 256, 3, padding=1),\n",
    "            nn.BatchNorm2d(256),\n",
    "            nn.MaxPool2d(2,2),\n",
    "            nn.ReLU(inplace=True),\n",
    "            nn.Dropout(0.4)\n",
    "        )\n",
    "        self.layer3 = nn.Sequential(         #14x14\n",
    "\n",
    "            nn.Conv2d(256, 512, 3, padding=1),\n",
    "            nn.BatchNorm2d(512),\n",
    "            nn.MaxPool2d(2, 2, padding=1),\n",
    "            nn.ReLU(inplace=True),\n",
    "            nn.Dropout(0.4)\n",
    "        )\n",
    "        self.fc_layer = nn.Sequential(\n",
    "            nn.Linear(in_features=512*4*4, out_features=512),\n",
    "            nn.BatchNorm1d(512),\n",
    "            nn.ReLU(),\n",
    "            nn.Dropout(0.4),\n",
    "            \n",
    "            nn.Linear(512, 26)\n",
    "        )\n",
    "        self.layer4 = nn.Sequential(\n",
    "            nn.Conv2d(512, 26, kernel_size=5, padding=2),\n",
    "            nn.BatchNorm2d(26),\n",
    "            nn.ReLU(),\n",
    "            nn.AdaptiveAvgPool2d(1),\n",
    "            nn.Dropout(0.4)\n",
    "        )\n",
    "        \n",
    "        \n",
    "#         self.residual_layer = nn.Sequential(\n",
    "#             nn.Conv2d(1, 128, 1)\n",
    "#         )\n",
    "        \n",
    "    def forward(self, x):\n",
    "        out = self.layer1(x) \n",
    "        out = self.layer2(out)\n",
    "        out = self.layer3(out)\n",
    "        out = self.layer4(out)\n",
    "        out = out.view(out.size(0), -1)\n",
    "        return out\n",
    "'''\n",
    "    \n",
    "'''   0.991\n",
    "class CNN(nn.Module):\n",
    "    def __init__(self):\n",
    "        a=32\n",
    "        b=64\n",
    "        c=512\n",
    "        \n",
    "        super(CNN, self).__init__()\n",
    "        self.layer1 = nn.Sequential(         # 28x28\n",
    "            nn.Conv2d(1, a, 3, padding=1),\n",
    "            nn.BatchNorm2d(a),\n",
    "            nn.ReLU(inplace=True),\n",
    "        )\n",
    "        self.layer2 = nn.Sequential(          # 28x28      \n",
    "            nn.Conv2d(a, a, 3, padding=1),\n",
    "            nn.BatchNorm2d(a),\n",
    "            nn.ReLU(inplace=True),\n",
    "            nn.MaxPool2d(2,2)\n",
    "        )\n",
    "        self.layer3 = nn.Sequential(         #14x14\n",
    "            nn.Conv2d(a, b, 3, padding=1),\n",
    "            nn.BatchNorm2d(b),\n",
    "            nn.ReLU(inplace=True),  \n",
    "            \n",
    "            nn.Conv2d(b, b, kernel_size=3, padding=1),    #7x7\n",
    "            nn.BatchNorm2d(64),\n",
    "            nn.ReLU(inplace=True),\n",
    "            nn.MaxPool2d(kernel_size=2, stride=2)\n",
    "        )\n",
    "        self.fc_layer = nn.Sequential(\n",
    "            nn.Linear(in_features=64*7*7, out_features=512),\n",
    "            nn.BatchNorm1d(512),\n",
    "            nn.ReLU(),\n",
    "            nn.Dropout(0.5),\n",
    "            \n",
    "            nn.Linear(512, 26)\n",
    "        )\n",
    "        \n",
    "    def forward(self, x):\n",
    "        out = self.layer1(x)\n",
    "        out = self.layer2(out)\n",
    "        out = self.layer3(out)\n",
    "        out = out.view(out.size(0), -1)\n",
    "        out = self.fc_layer(out)\n",
    "        return out'''"
   ]
  },
  {
   "cell_type": "markdown",
   "id": "20c96b2c",
   "metadata": {},
   "source": [
    "# Define model"
   ]
  },
  {
   "cell_type": "code",
   "execution_count": 7,
   "id": "376da65b",
   "metadata": {},
   "outputs": [],
   "source": [
    "model = CNN().to(device)\n",
    "# model = torch.load(\"../weights/processed_Rotate_GAP_adam_reduceLR_all5kernel070ep_acc99.86873626708984.pth\").to(device)\n",
    "\n",
    "loss_func = nn.CrossEntropyLoss().to(device)\n",
    "optimizer = optim.Adam(model.parameters(), lr=learning_rate)\n",
    "scheduler = lr_scheduler.ReduceLROnPlateau(optimizer, mode='max', factor=0.5, patience=10)\n",
    "# optimizer = optim.AdamW(model.parameters(), lr=learning_rate, weight_decay=1e-1)\n",
    "# scheduler = lr_scheduler.CosineAnnealingLR(optimizer, T_max=10, eta_min=1e-5)\n"
   ]
  },
  {
   "cell_type": "markdown",
   "id": "2c82f8e2",
   "metadata": {},
   "source": [
    "# Training"
   ]
  },
  {
   "cell_type": "code",
   "execution_count": 8,
   "id": "a529af34",
   "metadata": {},
   "outputs": [],
   "source": [
    "def test_acc(model, test_loader=test_loader):\n",
    "    correct = 0\n",
    "    total = 0\n",
    "    model = model.eval()\n",
    "    with torch.no_grad():\n",
    "        for image, label in test_loader:\n",
    "            x = image.to(device)\n",
    "            y = label.to(device)\n",
    "\n",
    "            output = model.forward(x)\n",
    "            _, output_index = torch.max(output, 1)\n",
    "\n",
    "            total += label.size(0)\n",
    "            correct += (output_index == y ).sum().float()\n",
    "\n",
    "        return f\"{100.0*correct/total}\""
   ]
  },
  {
   "cell_type": "code",
   "execution_count": null,
   "id": "ba2f9a29",
   "metadata": {
    "scrolled": false
   },
   "outputs": [
    {
     "name": "stderr",
     "output_type": "stream",
     "text": [
      "100%|██████████| 267/267 [00:12<00:00, 21.50it/s]\n"
     ]
    },
    {
     "name": "stdout",
     "output_type": "stream",
     "text": [
      "Epoch: 1, Loss: 2.103637218475342, LR: 0.001, Acc: 74.51528930664062, Best: 0.0\n"
     ]
    },
    {
     "name": "stderr",
     "output_type": "stream",
     "text": [
      "100%|██████████| 267/267 [00:12<00:00, 20.94it/s]\n"
     ]
    },
    {
     "name": "stdout",
     "output_type": "stream",
     "text": [
      "Epoch: 2, Loss: 2.055246353149414, LR: 0.001, Acc: 85.04846954345703, Best: 0.0\n"
     ]
    },
    {
     "name": "stderr",
     "output_type": "stream",
     "text": [
      "100%|██████████| 267/267 [00:12<00:00, 21.39it/s]\n"
     ]
    },
    {
     "name": "stdout",
     "output_type": "stream",
     "text": [
      "Epoch: 3, Loss: 1.538761019706726, LR: 0.001, Acc: 87.86353302001953, Best: 0.0\n"
     ]
    },
    {
     "name": "stderr",
     "output_type": "stream",
     "text": [
      "100%|██████████| 267/267 [00:12<00:00, 21.29it/s]\n"
     ]
    },
    {
     "name": "stdout",
     "output_type": "stream",
     "text": [
      "Epoch: 4, Loss: 1.2254278659820557, LR: 0.001, Acc: 89.56002807617188, Best: 0.0\n"
     ]
    },
    {
     "name": "stderr",
     "output_type": "stream",
     "text": [
      "100%|██████████| 267/267 [00:13<00:00, 19.83it/s]\n"
     ]
    },
    {
     "name": "stdout",
     "output_type": "stream",
     "text": [
      "Epoch: 5, Loss: 1.7032229900360107, LR: 0.001, Acc: 93.28858947753906, Best: 0.0\n"
     ]
    },
    {
     "name": "stderr",
     "output_type": "stream",
     "text": [
      "100%|██████████| 267/267 [00:12<00:00, 21.53it/s]\n"
     ]
    },
    {
     "name": "stdout",
     "output_type": "stream",
     "text": [
      "Epoch: 6, Loss: 1.498139500617981, LR: 0.001, Acc: 93.3631591796875, Best: 0.0\n"
     ]
    },
    {
     "name": "stderr",
     "output_type": "stream",
     "text": [
      "100%|██████████| 267/267 [00:13<00:00, 19.36it/s]\n"
     ]
    },
    {
     "name": "stdout",
     "output_type": "stream",
     "text": [
      "Epoch: 7, Loss: 1.541142463684082, LR: 0.001, Acc: 94.18344116210938, Best: 0.0\n"
     ]
    },
    {
     "name": "stderr",
     "output_type": "stream",
     "text": [
      "100%|██████████| 267/267 [00:12<00:00, 21.42it/s]\n"
     ]
    },
    {
     "name": "stdout",
     "output_type": "stream",
     "text": [
      "Epoch: 8, Loss: 1.7508339881896973, LR: 0.001, Acc: 94.51901245117188, Best: 0.0\n"
     ]
    },
    {
     "name": "stderr",
     "output_type": "stream",
     "text": [
      "100%|██████████| 267/267 [00:13<00:00, 19.25it/s]\n"
     ]
    },
    {
     "name": "stdout",
     "output_type": "stream",
     "text": [
      "Epoch: 9, Loss: 1.355699896812439, LR: 0.001, Acc: 94.8918685913086, Best: 0.0\n"
     ]
    },
    {
     "name": "stderr",
     "output_type": "stream",
     "text": [
      "100%|██████████| 267/267 [00:13<00:00, 20.53it/s]\n"
     ]
    },
    {
     "name": "stdout",
     "output_type": "stream",
     "text": [
      "Epoch: 10, Loss: 1.5409176349639893, LR: 0.001, Acc: 95.09693908691406, Best: 0.0\n"
     ]
    },
    {
     "name": "stderr",
     "output_type": "stream",
     "text": [
      "100%|██████████| 267/267 [00:15<00:00, 17.63it/s]\n"
     ]
    },
    {
     "name": "stdout",
     "output_type": "stream",
     "text": [
      "Epoch: 11, Loss: 1.5591092109680176, LR: 0.001, Acc: 94.48172760009766, Best: 0.0\n"
     ]
    },
    {
     "name": "stderr",
     "output_type": "stream",
     "text": [
      "100%|██████████| 267/267 [00:12<00:00, 20.77it/s]\n"
     ]
    },
    {
     "name": "stdout",
     "output_type": "stream",
     "text": [
      "Epoch: 12, Loss: 1.4201489686965942, LR: 0.001, Acc: 95.30200958251953, Best: 0.0\n"
     ]
    },
    {
     "name": "stderr",
     "output_type": "stream",
     "text": [
      "100%|██████████| 267/267 [00:13<00:00, 19.98it/s]\n"
     ]
    },
    {
     "name": "stdout",
     "output_type": "stream",
     "text": [
      "Epoch: 13, Loss: 1.5334912538528442, LR: 0.001, Acc: 95.11558532714844, Best: 0.0\n"
     ]
    },
    {
     "name": "stderr",
     "output_type": "stream",
     "text": [
      "100%|██████████| 267/267 [00:12<00:00, 21.10it/s]\n"
     ]
    },
    {
     "name": "stdout",
     "output_type": "stream",
     "text": [
      "Epoch: 14, Loss: 1.4358290433883667, LR: 0.001, Acc: 94.8918685913086, Best: 0.0\n"
     ]
    },
    {
     "name": "stderr",
     "output_type": "stream",
     "text": [
      "100%|██████████| 267/267 [00:13<00:00, 20.26it/s]\n"
     ]
    },
    {
     "name": "stdout",
     "output_type": "stream",
     "text": [
      "Epoch: 15, Loss: 1.6799736022949219, LR: 0.001, Acc: 95.26472473144531, Best: 0.0\n"
     ]
    },
    {
     "name": "stderr",
     "output_type": "stream",
     "text": [
      "100%|██████████| 267/267 [00:14<00:00, 18.96it/s]\n"
     ]
    },
    {
     "name": "stdout",
     "output_type": "stream",
     "text": [
      "Epoch: 16, Loss: 1.6212067604064941, LR: 0.001, Acc: 95.45115661621094, Best: 0.0\n"
     ]
    },
    {
     "name": "stderr",
     "output_type": "stream",
     "text": [
      "100%|██████████| 267/267 [00:12<00:00, 20.61it/s]\n"
     ]
    },
    {
     "name": "stdout",
     "output_type": "stream",
     "text": [
      "Epoch: 17, Loss: 1.5008599758148193, LR: 0.001, Acc: 95.507080078125, Best: 0.0\n"
     ]
    },
    {
     "name": "stderr",
     "output_type": "stream",
     "text": [
      "100%|██████████| 267/267 [00:14<00:00, 18.61it/s]\n"
     ]
    },
    {
     "name": "stdout",
     "output_type": "stream",
     "text": [
      "Epoch: 18, Loss: 1.4249086380004883, LR: 0.001, Acc: 95.46979522705078, Best: 0.0\n"
     ]
    },
    {
     "name": "stderr",
     "output_type": "stream",
     "text": [
      "100%|██████████| 267/267 [00:12<00:00, 20.58it/s]\n"
     ]
    },
    {
     "name": "stdout",
     "output_type": "stream",
     "text": [
      "Epoch: 19, Loss: 1.4420716762542725, LR: 0.001, Acc: 95.61894226074219, Best: 0.0\n"
     ]
    },
    {
     "name": "stderr",
     "output_type": "stream",
     "text": [
      "100%|██████████| 267/267 [00:14<00:00, 18.61it/s]\n"
     ]
    },
    {
     "name": "stdout",
     "output_type": "stream",
     "text": [
      "Epoch: 20, Loss: 1.400483250617981, LR: 0.001, Acc: 95.71215057373047, Best: 0.0\n"
     ]
    },
    {
     "name": "stderr",
     "output_type": "stream",
     "text": [
      "100%|██████████| 267/267 [00:12<00:00, 20.60it/s]\n"
     ]
    },
    {
     "name": "stdout",
     "output_type": "stream",
     "text": [
      "Epoch: 21, Loss: 1.3322968482971191, LR: 0.001, Acc: 95.74943542480469, Best: 0.0\n"
     ]
    },
    {
     "name": "stderr",
     "output_type": "stream",
     "text": [
      "100%|██████████| 267/267 [00:14<00:00, 18.58it/s]\n"
     ]
    },
    {
     "name": "stdout",
     "output_type": "stream",
     "text": [
      "Epoch: 22, Loss: 1.4556812047958374, LR: 0.001, Acc: 95.76808166503906, Best: 0.0\n"
     ]
    },
    {
     "name": "stderr",
     "output_type": "stream",
     "text": [
      "100%|██████████| 267/267 [00:13<00:00, 20.50it/s]\n"
     ]
    },
    {
     "name": "stdout",
     "output_type": "stream",
     "text": [
      "Epoch: 23, Loss: 1.3571832180023193, LR: 0.001, Acc: 95.91722106933594, Best: 0.0\n"
     ]
    },
    {
     "name": "stderr",
     "output_type": "stream",
     "text": [
      "100%|██████████| 267/267 [00:14<00:00, 17.94it/s]\n"
     ]
    },
    {
     "name": "stdout",
     "output_type": "stream",
     "text": [
      "Epoch: 24, Loss: 1.7851680517196655, LR: 0.001, Acc: 95.8426513671875, Best: 0.0\n"
     ]
    },
    {
     "name": "stderr",
     "output_type": "stream",
     "text": [
      "100%|██████████| 267/267 [00:12<00:00, 20.90it/s]\n"
     ]
    },
    {
     "name": "stdout",
     "output_type": "stream",
     "text": [
      "Epoch: 25, Loss: 1.4928617477416992, LR: 0.001, Acc: 95.8426513671875, Best: 0.0\n"
     ]
    },
    {
     "name": "stderr",
     "output_type": "stream",
     "text": [
      "100%|██████████| 267/267 [00:13<00:00, 19.95it/s]\n"
     ]
    },
    {
     "name": "stdout",
     "output_type": "stream",
     "text": [
      "Epoch: 26, Loss: 1.5820600986480713, LR: 0.001, Acc: 95.71215057373047, Best: 0.0\n"
     ]
    },
    {
     "name": "stderr",
     "output_type": "stream",
     "text": [
      "100%|██████████| 267/267 [00:12<00:00, 20.62it/s]\n"
     ]
    },
    {
     "name": "stdout",
     "output_type": "stream",
     "text": [
      "Epoch: 27, Loss: 1.3568615913391113, LR: 0.001, Acc: 95.86129760742188, Best: 0.0\n"
     ]
    },
    {
     "name": "stderr",
     "output_type": "stream",
     "text": [
      "100%|██████████| 267/267 [00:13<00:00, 20.34it/s]\n"
     ]
    },
    {
     "name": "stdout",
     "output_type": "stream",
     "text": [
      "Epoch: 28, Loss: 1.763352870941162, LR: 0.001, Acc: 95.9917984008789, Best: 0.0\n"
     ]
    },
    {
     "name": "stderr",
     "output_type": "stream",
     "text": [
      "100%|██████████| 267/267 [00:13<00:00, 19.23it/s]\n"
     ]
    },
    {
     "name": "stdout",
     "output_type": "stream",
     "text": [
      "Epoch: 29, Loss: 1.102105736732483, LR: 0.001, Acc: 95.80536651611328, Best: 0.0\n"
     ]
    },
    {
     "name": "stderr",
     "output_type": "stream",
     "text": [
      "100%|██████████| 267/267 [00:13<00:00, 20.53it/s]\n"
     ]
    },
    {
     "name": "stdout",
     "output_type": "stream",
     "text": [
      "Epoch: 30, Loss: 1.456998348236084, LR: 0.001, Acc: 95.93586730957031, Best: 0.0\n"
     ]
    },
    {
     "name": "stderr",
     "output_type": "stream",
     "text": [
      "100%|██████████| 267/267 [00:14<00:00, 18.83it/s]\n"
     ]
    },
    {
     "name": "stdout",
     "output_type": "stream",
     "text": [
      "Epoch: 31, Loss: 1.3038673400878906, LR: 0.001, Acc: 95.82401275634766, Best: 0.0\n"
     ]
    },
    {
     "name": "stderr",
     "output_type": "stream",
     "text": [
      "100%|██████████| 267/267 [00:12<00:00, 20.56it/s]\n"
     ]
    },
    {
     "name": "stdout",
     "output_type": "stream",
     "text": [
      "Epoch: 32, Loss: 1.3084352016448975, LR: 0.001, Acc: 95.87993621826172, Best: 0.0\n"
     ]
    },
    {
     "name": "stderr",
     "output_type": "stream",
     "text": [
      "100%|██████████| 267/267 [00:14<00:00, 18.23it/s]\n"
     ]
    },
    {
     "name": "stdout",
     "output_type": "stream",
     "text": [
      "Epoch: 33, Loss: 1.171614646911621, LR: 0.001, Acc: 96.1222915649414, Best: 0.0\n"
     ]
    },
    {
     "name": "stderr",
     "output_type": "stream",
     "text": [
      "100%|██████████| 267/267 [00:12<00:00, 20.62it/s]\n"
     ]
    },
    {
     "name": "stdout",
     "output_type": "stream",
     "text": [
      "Epoch: 34, Loss: 1.523447871208191, LR: 0.001, Acc: 96.06636810302734, Best: 0.0\n"
     ]
    },
    {
     "name": "stderr",
     "output_type": "stream",
     "text": [
      "100%|██████████| 267/267 [00:14<00:00, 18.51it/s]\n"
     ]
    },
    {
     "name": "stdout",
     "output_type": "stream",
     "text": [
      "Epoch: 35, Loss: 1.4831255674362183, LR: 0.001, Acc: 96.17822265625, Best: 0.0\n"
     ]
    },
    {
     "name": "stderr",
     "output_type": "stream",
     "text": [
      "100%|██████████| 267/267 [00:13<00:00, 20.16it/s]\n"
     ]
    },
    {
     "name": "stdout",
     "output_type": "stream",
     "text": [
      "Epoch: 36, Loss: 1.0489295721054077, LR: 0.001, Acc: 96.01043701171875, Best: 0.0\n"
     ]
    },
    {
     "name": "stderr",
     "output_type": "stream",
     "text": [
      "100%|██████████| 267/267 [00:15<00:00, 16.91it/s]\n"
     ]
    },
    {
     "name": "stdout",
     "output_type": "stream",
     "text": [
      "Epoch: 37, Loss: 1.5884629487991333, LR: 0.001, Acc: 96.02908325195312, Best: 0.0\n"
     ]
    },
    {
     "name": "stderr",
     "output_type": "stream",
     "text": [
      "100%|██████████| 267/267 [00:13<00:00, 19.62it/s]\n"
     ]
    },
    {
     "name": "stdout",
     "output_type": "stream",
     "text": [
      "Epoch: 38, Loss: 1.1776649951934814, LR: 0.001, Acc: 96.17822265625, Best: 0.0\n"
     ]
    },
    {
     "name": "stderr",
     "output_type": "stream",
     "text": [
      "100%|██████████| 267/267 [00:14<00:00, 19.04it/s]\n"
     ]
    },
    {
     "name": "stdout",
     "output_type": "stream",
     "text": [
      "Epoch: 39, Loss: 1.816225528717041, LR: 0.001, Acc: 95.8985824584961, Best: 0.0\n"
     ]
    },
    {
     "name": "stderr",
     "output_type": "stream",
     "text": [
      "100%|██████████| 267/267 [00:13<00:00, 19.46it/s]\n"
     ]
    },
    {
     "name": "stdout",
     "output_type": "stream",
     "text": [
      "Epoch: 40, Loss: 1.5450010299682617, LR: 0.001, Acc: 95.95450592041016, Best: 0.0\n"
     ]
    },
    {
     "name": "stderr",
     "output_type": "stream",
     "text": [
      "100%|██████████| 267/267 [00:13<00:00, 19.65it/s]\n"
     ]
    },
    {
     "name": "stdout",
     "output_type": "stream",
     "text": [
      "Epoch: 41, Loss: 1.4762250185012817, LR: 0.001, Acc: 96.06636810302734, Best: 0.0\n"
     ]
    },
    {
     "name": "stderr",
     "output_type": "stream",
     "text": [
      "100%|██████████| 267/267 [00:13<00:00, 20.05it/s]\n"
     ]
    },
    {
     "name": "stdout",
     "output_type": "stream",
     "text": [
      "Epoch: 42, Loss: 1.457515835762024, LR: 0.001, Acc: 96.06636810302734, Best: 0.0\n"
     ]
    },
    {
     "name": "stderr",
     "output_type": "stream",
     "text": [
      "100%|██████████| 267/267 [00:13<00:00, 19.56it/s]\n"
     ]
    },
    {
     "name": "stdout",
     "output_type": "stream",
     "text": [
      "Epoch: 43, Loss: 1.2967841625213623, LR: 0.001, Acc: 96.19686889648438, Best: 0.0\n"
     ]
    },
    {
     "name": "stderr",
     "output_type": "stream",
     "text": [
      "100%|██████████| 267/267 [00:14<00:00, 19.05it/s]\n"
     ]
    },
    {
     "name": "stdout",
     "output_type": "stream",
     "text": [
      "Epoch: 44, Loss: 1.2522058486938477, LR: 0.001, Acc: 96.2341537475586, Best: 0.0\n"
     ]
    },
    {
     "name": "stderr",
     "output_type": "stream",
     "text": [
      "100%|██████████| 267/267 [00:13<00:00, 20.02it/s]\n"
     ]
    },
    {
     "name": "stdout",
     "output_type": "stream",
     "text": [
      "Epoch: 45, Loss: 1.5712391138076782, LR: 0.001, Acc: 96.14093780517578, Best: 0.0\n"
     ]
    },
    {
     "name": "stderr",
     "output_type": "stream",
     "text": [
      "100%|██████████| 267/267 [00:13<00:00, 19.72it/s]\n"
     ]
    },
    {
     "name": "stdout",
     "output_type": "stream",
     "text": [
      "Epoch: 46, Loss: 1.4803664684295654, LR: 0.001, Acc: 96.04772186279297, Best: 0.0\n"
     ]
    },
    {
     "name": "stderr",
     "output_type": "stream",
     "text": [
      "100%|██████████| 267/267 [00:13<00:00, 20.00it/s]\n"
     ]
    },
    {
     "name": "stdout",
     "output_type": "stream",
     "text": [
      "Epoch: 47, Loss: 0.9990170001983643, LR: 0.001, Acc: 96.1222915649414, Best: 0.0\n"
     ]
    },
    {
     "name": "stderr",
     "output_type": "stream",
     "text": [
      "100%|██████████| 267/267 [00:13<00:00, 20.05it/s]\n"
     ]
    },
    {
     "name": "stdout",
     "output_type": "stream",
     "text": [
      "Epoch: 48, Loss: 1.5347528457641602, LR: 0.001, Acc: 96.02908325195312, Best: 0.0\n"
     ]
    },
    {
     "name": "stderr",
     "output_type": "stream",
     "text": [
      "100%|██████████| 267/267 [00:13<00:00, 20.13it/s]\n"
     ]
    },
    {
     "name": "stdout",
     "output_type": "stream",
     "text": [
      "Epoch: 49, Loss: 1.23036527633667, LR: 0.001, Acc: 96.17822265625, Best: 0.0\n"
     ]
    },
    {
     "name": "stderr",
     "output_type": "stream",
     "text": [
      "100%|██████████| 267/267 [00:12<00:00, 20.69it/s]\n"
     ]
    },
    {
     "name": "stdout",
     "output_type": "stream",
     "text": [
      "Epoch: 50, Loss: 1.561476707458496, LR: 0.001, Acc: 96.04772186279297, Best: 0.0\n"
     ]
    },
    {
     "name": "stderr",
     "output_type": "stream",
     "text": [
      "100%|██████████| 267/267 [00:14<00:00, 18.49it/s]\n"
     ]
    },
    {
     "name": "stdout",
     "output_type": "stream",
     "text": [
      "Epoch: 51, Loss: 1.1447515487670898, LR: 0.001, Acc: 96.06636810302734, Best: 0.0\n"
     ]
    },
    {
     "name": "stderr",
     "output_type": "stream",
     "text": [
      "100%|██████████| 267/267 [00:12<00:00, 20.65it/s]\n"
     ]
    },
    {
     "name": "stdout",
     "output_type": "stream",
     "text": [
      "Epoch: 52, Loss: 1.241894006729126, LR: 0.001, Acc: 95.93586730957031, Best: 0.0\n"
     ]
    },
    {
     "name": "stderr",
     "output_type": "stream",
     "text": [
      " 15%|█▌        | 41/267 [00:02<00:12, 17.89it/s]"
     ]
    }
   ],
   "source": [
    "max_accuracy =0.\n",
    "from tqdm import tqdm\n",
    "\n",
    "for i in range(1, num_epoch+1):\n",
    "    model = model.train()\n",
    "    for _, [image, label] in tqdm(enumerate(train_loader), total= len(train_loader)):\n",
    "        x = image.to(device)\n",
    "        y = label.to(device)\n",
    "        \n",
    "        optimizer.zero_grad()\n",
    "        output = model.forward(x)\n",
    "        loss = loss_func(output, y)\n",
    "        loss.backward()\n",
    "        optimizer.step()\n",
    "    \n",
    "    accuracy = float(test_acc(model))\n",
    "    if (accuracy> max_accuracy and accuracy>99.2):\n",
    "        max_accuracy = accuracy\n",
    "        model_path = f\"../weights/merged_inverthalf_GAP_adam_reduceLR_all5kernel{i:03d}ep_acc{max_accuracy}.pth\"\n",
    "        torch.save(model, model_path)\n",
    "    \n",
    "    scheduler.step(accuracy)\n",
    "    print(f\"Epoch: {i}, Loss: {loss.item()}, LR: {scheduler.optimizer.state_dict()['param_groups'][0]['lr']}, Acc: {accuracy}, Best: {max_accuracy}\")"
   ]
  },
  {
   "cell_type": "code",
   "execution_count": null,
   "id": "f27036a3",
   "metadata": {},
   "outputs": [],
   "source": [
    "model = torch.load(\"../weights/processed_Rotate_GAP_adam_reduceLR_all5kernel070ep_acc99.86873626708984.pth\").to(device)\n",
    "\n",
    "print(test_acc(model))"
   ]
  },
  {
   "cell_type": "markdown",
   "id": "133078ec",
   "metadata": {},
   "source": []
  }
 ],
 "metadata": {
  "kernelspec": {
   "display_name": "vonenet",
   "language": "python",
   "name": "vonenet"
  }
 },
 "nbformat": 4,
 "nbformat_minor": 5
}
